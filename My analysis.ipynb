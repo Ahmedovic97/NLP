{
 "cells": [
  {
   "cell_type": "code",
   "execution_count": 1,
   "id": "5f93be24",
   "metadata": {},
   "outputs": [],
   "source": [
    "import pandas as pd\n",
    "import re\n",
    "import nltk\n",
    "from nltk.util import ngrams\n",
    "from nltk.tokenize import word_tokenize\n",
    "from nltk.corpus import stopwords\n",
    "from nltk.stem import WordNetLemmatizer\n",
    "from collections import Counter\n",
    "from nltk.corpus import wordnet\n",
    "from nltk.collections import Counter"
   ]
  },
  {
   "cell_type": "code",
   "execution_count": 2,
   "id": "d983c2c1",
   "metadata": {},
   "outputs": [],
   "source": [
    "data = pd.read_csv('clean_nus_sms.csv')\n",
    "#data"
   ]
  },
  {
   "cell_type": "markdown",
   "id": "5539ffdc",
   "metadata": {},
   "source": [
    "# # Data Cleaning and tiding..\n"
   ]
  },
  {
   "cell_type": "markdown",
   "id": "4ca1aaff",
   "metadata": {},
   "source": [
    "Removing the Unnamed: 0"
   ]
  },
  {
   "cell_type": "code",
   "execution_count": 3,
   "id": "ca8f5b7c",
   "metadata": {},
   "outputs": [],
   "source": [
    "data.drop(['Unnamed: 0'], axis=1, inplace=True)"
   ]
  },
  {
   "cell_type": "code",
   "execution_count": 4,
   "id": "539405f2",
   "metadata": {},
   "outputs": [
    {
     "data": {
      "text/html": [
       "<div>\n",
       "<style scoped>\n",
       "    .dataframe tbody tr th:only-of-type {\n",
       "        vertical-align: middle;\n",
       "    }\n",
       "\n",
       "    .dataframe tbody tr th {\n",
       "        vertical-align: top;\n",
       "    }\n",
       "\n",
       "    .dataframe thead th {\n",
       "        text-align: right;\n",
       "    }\n",
       "</style>\n",
       "<table border=\"1\" class=\"dataframe\">\n",
       "  <thead>\n",
       "    <tr style=\"text-align: right;\">\n",
       "      <th></th>\n",
       "      <th>id</th>\n",
       "      <th>Message</th>\n",
       "      <th>length</th>\n",
       "      <th>country</th>\n",
       "      <th>Date</th>\n",
       "    </tr>\n",
       "  </thead>\n",
       "  <tbody>\n",
       "    <tr>\n",
       "      <th>0</th>\n",
       "      <td>10120</td>\n",
       "      <td>Bugis oso near wat...</td>\n",
       "      <td>21</td>\n",
       "      <td>SG</td>\n",
       "      <td>2003/4</td>\n",
       "    </tr>\n",
       "    <tr>\n",
       "      <th>1</th>\n",
       "      <td>10121</td>\n",
       "      <td>Go until jurong point, crazy.. Available only ...</td>\n",
       "      <td>111</td>\n",
       "      <td>SG</td>\n",
       "      <td>2003/4</td>\n",
       "    </tr>\n",
       "    <tr>\n",
       "      <th>2</th>\n",
       "      <td>10122</td>\n",
       "      <td>I dunno until when... Lets go learn pilates...</td>\n",
       "      <td>46</td>\n",
       "      <td>SG</td>\n",
       "      <td>2003/4</td>\n",
       "    </tr>\n",
       "    <tr>\n",
       "      <th>3</th>\n",
       "      <td>10123</td>\n",
       "      <td>Den only weekdays got special price... Haiz......</td>\n",
       "      <td>140</td>\n",
       "      <td>SG</td>\n",
       "      <td>2003/4</td>\n",
       "    </tr>\n",
       "    <tr>\n",
       "      <th>4</th>\n",
       "      <td>10124</td>\n",
       "      <td>Meet after lunch la...</td>\n",
       "      <td>22</td>\n",
       "      <td>SG</td>\n",
       "      <td>2003/4</td>\n",
       "    </tr>\n",
       "    <tr>\n",
       "      <th>5</th>\n",
       "      <td>10125</td>\n",
       "      <td>m walking in citylink now ü faster come down.....</td>\n",
       "      <td>65</td>\n",
       "      <td>SG</td>\n",
       "      <td>2003/4</td>\n",
       "    </tr>\n",
       "    <tr>\n",
       "      <th>6</th>\n",
       "      <td>10126</td>\n",
       "      <td>5 nights...We nt staying at port step liao...T...</td>\n",
       "      <td>51</td>\n",
       "      <td>SG</td>\n",
       "      <td>2003/4</td>\n",
       "    </tr>\n",
       "    <tr>\n",
       "      <th>7</th>\n",
       "      <td>10127</td>\n",
       "      <td>Hey pple...$700 or $900 for 5 nights...Excelle...</td>\n",
       "      <td>81</td>\n",
       "      <td>SG</td>\n",
       "      <td>2003/4</td>\n",
       "    </tr>\n",
       "    <tr>\n",
       "      <th>8</th>\n",
       "      <td>10128</td>\n",
       "      <td>Yun ah.the ubi one say if ü wan call by tomorr...</td>\n",
       "      <td>160</td>\n",
       "      <td>SG</td>\n",
       "      <td>2003/4</td>\n",
       "    </tr>\n",
       "    <tr>\n",
       "      <th>9</th>\n",
       "      <td>10129</td>\n",
       "      <td>Hey tmr maybe can meet you at yck</td>\n",
       "      <td>33</td>\n",
       "      <td>SG</td>\n",
       "      <td>2003/4</td>\n",
       "    </tr>\n",
       "  </tbody>\n",
       "</table>\n",
       "</div>"
      ],
      "text/plain": [
       "      id                                            Message length country  \\\n",
       "0  10120                              Bugis oso near wat...     21      SG   \n",
       "1  10121  Go until jurong point, crazy.. Available only ...    111      SG   \n",
       "2  10122     I dunno until when... Lets go learn pilates...     46      SG   \n",
       "3  10123  Den only weekdays got special price... Haiz......    140      SG   \n",
       "4  10124                             Meet after lunch la...     22      SG   \n",
       "5  10125  m walking in citylink now ü faster come down.....     65      SG   \n",
       "6  10126  5 nights...We nt staying at port step liao...T...     51      SG   \n",
       "7  10127  Hey pple...$700 or $900 for 5 nights...Excelle...     81      SG   \n",
       "8  10128  Yun ah.the ubi one say if ü wan call by tomorr...    160      SG   \n",
       "9  10129                  Hey tmr maybe can meet you at yck     33      SG   \n",
       "\n",
       "     Date  \n",
       "0  2003/4  \n",
       "1  2003/4  \n",
       "2  2003/4  \n",
       "3  2003/4  \n",
       "4  2003/4  \n",
       "5  2003/4  \n",
       "6  2003/4  \n",
       "7  2003/4  \n",
       "8  2003/4  \n",
       "9  2003/4  "
      ]
     },
     "execution_count": 4,
     "metadata": {},
     "output_type": "execute_result"
    }
   ],
   "source": [
    "data.head(10)"
   ]
  },
  {
   "cell_type": "markdown",
   "id": "9715f2e1",
   "metadata": {},
   "source": [
    "Checking for missing values and removing them."
   ]
  },
  {
   "cell_type": "code",
   "execution_count": 5,
   "id": "33230b9a",
   "metadata": {},
   "outputs": [
    {
     "data": {
      "text/plain": [
       "False    48595\n",
       "True         3\n",
       "Name: Message, dtype: int64"
      ]
     },
     "execution_count": 5,
     "metadata": {},
     "output_type": "execute_result"
    }
   ],
   "source": [
    "data['Message'].isna().value_counts()"
   ]
  },
  {
   "cell_type": "code",
   "execution_count": 6,
   "id": "8655dbc5",
   "metadata": {},
   "outputs": [],
   "source": [
    "data = data.dropna(subset=['Message'])"
   ]
  },
  {
   "cell_type": "code",
   "execution_count": 7,
   "id": "895ea4a6",
   "metadata": {},
   "outputs": [
    {
     "data": {
      "text/plain": [
       "array(['21', '111', '46', '140', '22', '65', '51', '81', '160', '33',\n",
       "       '41', '132', '23', '26', '31', '114', '45', '63', '53', '87', '60',\n",
       "       '79', '25', '56', '47', '118', '82', '58', '155', '83', '28', '54',\n",
       "       '93', '125', '107', '159', '116', '69', '48', '36', '34', '122',\n",
       "       '142', '76', '14', '27', '97', '38', '119', '32', '133', '101',\n",
       "       '74', '123', '104', '43', '62', '59', '42', '115', '44', '86',\n",
       "       '78', '68', '102', '80', '39', '71', '90', '141', '131', '8', '70',\n",
       "       '108', '18', '37', '110', '121', '15', '61', '67', '17', '96',\n",
       "       '10', '24', '9', '19', '52', '16', '13', '3', '7', '20', '5', '75',\n",
       "       '29', '11', '30', '73', '6', '64', '49', '88', '50', '92', '12',\n",
       "       '105', '85', '77', '55', '103', '40', '4', '35', '84', '148', '98',\n",
       "       '57', '149', '72', '2', '66', '137', '147', '158', '151', '94',\n",
       "       '91', '95', '153', '89', '109', '134', '100', '156', '99', '135',\n",
       "       '136', '129', '127', '164', '266', '130', '113', '279', '138',\n",
       "       '117', '219', '157', '120', '112', '152', '124', '145', '126', '1',\n",
       "       '106', '128', '143', '139', '199', '144', '167', '154', '165',\n",
       "       '146', '168', '162', '200', '161', '189', '292', '150', '210',\n",
       "       '178', '205', '186', 'Err:511', '171', '202', '252', '183', '170',\n",
       "       '604', '304', '424', '436', '173', '247', '262', '163', '670',\n",
       "       '288', '294', '208', '884', '355', '230', '229', '296', '264',\n",
       "       '235', '176', '222', '237', '191', '363', '184', '234', '244',\n",
       "       '221', '790', '201', '289', '415', '431', '190', '290', '379',\n",
       "       '232', '369', '276', '193', '287', '240', '285', '282', '220',\n",
       "       '179', '213', '397', '414', '226', '169', '204', '283', '245',\n",
       "       '196', '215', '181', '198', '333', '272', '188', '242', '172',\n",
       "       '256', '206', '305', '255', '459', '217', '223', '589', '263',\n",
       "       '225', '216', '185', '180', '197', '260', '236', '269', '258',\n",
       "       '437', '207', '286', '251', '300', '166', '175', '306', '243',\n",
       "       '408', '382', '326', '261', '250', '268', '503', '354', '224',\n",
       "       '321', '297', '458', '281', '476', '366', '322', '312', '203',\n",
       "       '303', '332', '291', '329', '270', '177', '368', '174', '384',\n",
       "       '278', '444', '371', '392', '386', '253', '324', '274', '194',\n",
       "       '273', '295', '316', '343', '365', '588', '309', '446', '432',\n",
       "       '302', '445', '308', '429', '461', '228', '910', '293', '192',\n",
       "       '195', 'Err:509', '552', '218', '319', '313', '298', '762', '541',\n",
       "       '212', '307', '187', '311', '277', '336', '370', '362', '372',\n",
       "       '238', '339', '280', '340', '239', '341', '345', '214', '271',\n",
       "       '211', '353', '359', '299', '453', '314', '419', '400', '231',\n",
       "       '233', '249', '182', '275', '227', '267', '348', '246', '241',\n",
       "       '248', '425', '389', '301', '317', '512', 'Err:508', 'Err:510',\n",
       "       '426', '483', '331', '435', '387', '462', '209', '447', '908',\n",
       "       '409', '596', '457', '466', '718', '524', '514', '434', '351',\n",
       "       '527', '257', '427', '335', '443', '328', '487', '265', '442',\n",
       "       '376', '374', '460', '430', '383', '380', '367', '356', '399',\n",
       "       '433', '381', '492', '378', '510', '342', '346', '412', '611',\n",
       "       '352', '357', '254', '259', '334', '377', '350', '315', '537',\n",
       "       '325', '330', '310', '402', '388', '385', '454', '676', '327',\n",
       "       '390', '599', '610', '463', '441', '544', '481', '482', '475',\n",
       "       '474', '320', '488', '757', '575', '358', '500', '411', '661',\n",
       "       '410', '373', '337', '516', '364', '284', '627', '344', '323'],\n",
       "      dtype=object)"
      ]
     },
     "execution_count": 7,
     "metadata": {},
     "output_type": "execute_result"
    }
   ],
   "source": [
    "data['length'].unique()"
   ]
  },
  {
   "cell_type": "code",
   "execution_count": 8,
   "id": "eeb68485",
   "metadata": {},
   "outputs": [
    {
     "name": "stdout",
     "output_type": "stream",
     "text": [
      "          id  Message   length    country    Date\n",
      "31264  24234  Err:508  Err:508  Singapore  2011/4\n",
      "          id  Message   length        country    Date\n",
      "18485  10441  Err:509  Err:509  United States  2011/3\n",
      "          id  Message   length    country    Date\n",
      "32286  25413  Err:510  Err:510  Singapore  2011/4\n",
      "         id  Message   length country    Date\n",
      "9468  19896  Err:511  Err:511      SG  2003/4\n"
     ]
    }
   ],
   "source": [
    "# there are 4 values that are representing an error in the text messsages, those errors are Err:508, Err:509, Err:510, Err:511\n",
    "error508 = data[data.length == 'Err:508']\n",
    "error509 = data[data.length == 'Err:509']\n",
    "error510 = data[data.length == 'Err:510']\n",
    "error511 = data[data.length == 'Err:511']\n",
    "print(error508)\n",
    "print(error509)\n",
    "print(error510)\n",
    "print(error511)"
   ]
  },
  {
   "cell_type": "code",
   "execution_count": 9,
   "id": "565506c2",
   "metadata": {},
   "outputs": [
    {
     "data": {
      "text/plain": [
       "array(['21', '111', '46', '140', '22', '65', '51', '81', '160', '33',\n",
       "       '41', '132', '23', '26', '31', '114', '45', '63', '53', '87', '60',\n",
       "       '79', '25', '56', '47', '118', '82', '58', '155', '83', '28', '54',\n",
       "       '93', '125', '107', '159', '116', '69', '48', '36', '34', '122',\n",
       "       '142', '76', '14', '27', '97', '38', '119', '32', '133', '101',\n",
       "       '74', '123', '104', '43', '62', '59', '42', '115', '44', '86',\n",
       "       '78', '68', '102', '80', '39', '71', '90', '141', '131', '8', '70',\n",
       "       '108', '18', '37', '110', '121', '15', '61', '67', '17', '96',\n",
       "       '10', '24', '9', '19', '52', '16', '13', '3', '7', '20', '5', '75',\n",
       "       '29', '11', '30', '73', '6', '64', '49', '88', '50', '92', '12',\n",
       "       '105', '85', '77', '55', '103', '40', '4', '35', '84', '148', '98',\n",
       "       '57', '149', '72', '2', '66', '137', '147', '158', '151', '94',\n",
       "       '91', '95', '153', '89', '109', '134', '100', '156', '99', '135',\n",
       "       '136', '129', '127', '164', '266', '130', '113', '279', '138',\n",
       "       '117', '219', '157', '120', '112', '152', '124', '145', '126', '1',\n",
       "       '106', '128', '143', '139', '199', '144', '167', '154', '165',\n",
       "       '146', '168', '162', '200', '161', '189', '292', '150', '210',\n",
       "       '178', '205', '186', '171', '202', '252', '183', '170', '604',\n",
       "       '304', '424', '436', '173', '247', '262', '163', '670', '288',\n",
       "       '294', '208', '884', '355', '230', '229', '296', '264', '235',\n",
       "       '176', '222', '237', '191', '363', '184', '234', '244', '221',\n",
       "       '790', '201', '289', '415', '431', '190', '290', '379', '232',\n",
       "       '369', '276', '193', '287', '240', '285', '282', '220', '179',\n",
       "       '213', '397', '414', '226', '169', '204', '283', '245', '196',\n",
       "       '215', '181', '198', '333', '272', '188', '242', '172', '256',\n",
       "       '206', '305', '255', '459', '217', '223', '589', '263', '225',\n",
       "       '216', '185', '180', '197', '260', '236', '269', '258', '437',\n",
       "       '207', '286', '251', '300', '166', '175', '306', '243', '408',\n",
       "       '382', '326', '261', '250', '268', '503', '354', '224', '321',\n",
       "       '297', '458', '281', '476', '366', '322', '312', '203', '303',\n",
       "       '332', '291', '329', '270', '177', '368', '174', '384', '278',\n",
       "       '444', '371', '392', '386', '253', '324', '274', '194', '273',\n",
       "       '295', '316', '343', '365', '588', '309', '446', '432', '302',\n",
       "       '445', '308', '429', '461', '228', '910', '293', '192', '195',\n",
       "       '552', '218', '319', '313', '298', '762', '541', '212', '307',\n",
       "       '187', '311', '277', '336', '370', '362', '372', '238', '339',\n",
       "       '280', '340', '239', '341', '345', '214', '271', '211', '353',\n",
       "       '359', '299', '453', '314', '419', '400', '231', '233', '249',\n",
       "       '182', '275', '227', '267', '348', '246', '241', '248', '425',\n",
       "       '389', '301', '317', '512', '426', '483', '331', '435', '387',\n",
       "       '462', '209', '447', '908', '409', '596', '457', '466', '718',\n",
       "       '524', '514', '434', '351', '527', '257', '427', '335', '443',\n",
       "       '328', '487', '265', '442', '376', '374', '460', '430', '383',\n",
       "       '380', '367', '356', '399', '433', '381', '492', '378', '510',\n",
       "       '342', '346', '412', '611', '352', '357', '254', '259', '334',\n",
       "       '377', '350', '315', '537', '325', '330', '310', '402', '388',\n",
       "       '385', '454', '676', '327', '390', '599', '610', '463', '441',\n",
       "       '544', '481', '482', '475', '474', '320', '488', '757', '575',\n",
       "       '358', '500', '411', '661', '410', '373', '337', '516', '364',\n",
       "       '284', '627', '344', '323'], dtype=object)"
      ]
     },
     "execution_count": 9,
     "metadata": {},
     "output_type": "execute_result"
    }
   ],
   "source": [
    "data = data.drop(index= [31264, 18485, 32286, 9468])\n",
    "data.length.unique()"
   ]
  },
  {
   "cell_type": "code",
   "execution_count": 10,
   "id": "778d5543",
   "metadata": {},
   "outputs": [],
   "source": [
    "# changing the Length column to numerical data type...\n",
    "data.length = pd.to_numeric(data.length)"
   ]
  },
  {
   "cell_type": "code",
   "execution_count": 11,
   "id": "47469fbf",
   "metadata": {},
   "outputs": [
    {
     "name": "stdout",
     "output_type": "stream",
     "text": [
      "<class 'pandas.core.frame.DataFrame'>\n",
      "Int64Index: 48591 entries, 0 to 48597\n",
      "Data columns (total 5 columns):\n",
      " #   Column   Non-Null Count  Dtype \n",
      "---  ------   --------------  ----- \n",
      " 0   id       48591 non-null  int64 \n",
      " 1   Message  48591 non-null  object\n",
      " 2   length   48591 non-null  int64 \n",
      " 3   country  48591 non-null  object\n",
      " 4   Date     48591 non-null  object\n",
      "dtypes: int64(2), object(3)\n",
      "memory usage: 2.2+ MB\n"
     ]
    }
   ],
   "source": [
    "data.info()"
   ]
  },
  {
   "cell_type": "code",
   "execution_count": 12,
   "id": "ad12299c",
   "metadata": {},
   "outputs": [
    {
     "data": {
      "text/html": [
       "<div>\n",
       "<style scoped>\n",
       "    .dataframe tbody tr th:only-of-type {\n",
       "        vertical-align: middle;\n",
       "    }\n",
       "\n",
       "    .dataframe tbody tr th {\n",
       "        vertical-align: top;\n",
       "    }\n",
       "\n",
       "    .dataframe thead th {\n",
       "        text-align: right;\n",
       "    }\n",
       "</style>\n",
       "<table border=\"1\" class=\"dataframe\">\n",
       "  <thead>\n",
       "    <tr style=\"text-align: right;\">\n",
       "      <th></th>\n",
       "      <th>id</th>\n",
       "      <th>Message</th>\n",
       "      <th>length</th>\n",
       "      <th>country</th>\n",
       "      <th>year</th>\n",
       "      <th>month</th>\n",
       "    </tr>\n",
       "  </thead>\n",
       "  <tbody>\n",
       "    <tr>\n",
       "      <th>0</th>\n",
       "      <td>10120</td>\n",
       "      <td>Bugis oso near wat...</td>\n",
       "      <td>21</td>\n",
       "      <td>SG</td>\n",
       "      <td>2003</td>\n",
       "      <td>4</td>\n",
       "    </tr>\n",
       "    <tr>\n",
       "      <th>1</th>\n",
       "      <td>10121</td>\n",
       "      <td>Go until jurong point, crazy.. Available only ...</td>\n",
       "      <td>111</td>\n",
       "      <td>SG</td>\n",
       "      <td>2003</td>\n",
       "      <td>4</td>\n",
       "    </tr>\n",
       "    <tr>\n",
       "      <th>2</th>\n",
       "      <td>10122</td>\n",
       "      <td>I dunno until when... Lets go learn pilates...</td>\n",
       "      <td>46</td>\n",
       "      <td>SG</td>\n",
       "      <td>2003</td>\n",
       "      <td>4</td>\n",
       "    </tr>\n",
       "    <tr>\n",
       "      <th>3</th>\n",
       "      <td>10123</td>\n",
       "      <td>Den only weekdays got special price... Haiz......</td>\n",
       "      <td>140</td>\n",
       "      <td>SG</td>\n",
       "      <td>2003</td>\n",
       "      <td>4</td>\n",
       "    </tr>\n",
       "    <tr>\n",
       "      <th>4</th>\n",
       "      <td>10124</td>\n",
       "      <td>Meet after lunch la...</td>\n",
       "      <td>22</td>\n",
       "      <td>SG</td>\n",
       "      <td>2003</td>\n",
       "      <td>4</td>\n",
       "    </tr>\n",
       "  </tbody>\n",
       "</table>\n",
       "</div>"
      ],
      "text/plain": [
       "      id                                            Message  length country  \\\n",
       "0  10120                              Bugis oso near wat...      21      SG   \n",
       "1  10121  Go until jurong point, crazy.. Available only ...     111      SG   \n",
       "2  10122     I dunno until when... Lets go learn pilates...      46      SG   \n",
       "3  10123  Den only weekdays got special price... Haiz......     140      SG   \n",
       "4  10124                             Meet after lunch la...      22      SG   \n",
       "\n",
       "   year month  \n",
       "0  2003     4  \n",
       "1  2003     4  \n",
       "2  2003     4  \n",
       "3  2003     4  \n",
       "4  2003     4  "
      ]
     },
     "execution_count": 12,
     "metadata": {},
     "output_type": "execute_result"
    }
   ],
   "source": [
    "# Seperating the Date colum into months and year columns..\n",
    "data['year'] = data.Date.str[:4]\n",
    "data['month'] = data.Date.str[5:]\n",
    "data = data.drop(columns='Date')\n",
    "data.head()"
   ]
  },
  {
   "cell_type": "code",
   "execution_count": 13,
   "id": "bfd0db24",
   "metadata": {},
   "outputs": [
    {
     "data": {
      "text/plain": [
       "array(['4', '11', '12', '1', '2', '3', '5', '6', '8', '9', '7', '10'],\n",
       "      dtype=object)"
      ]
     },
     "execution_count": 13,
     "metadata": {},
     "output_type": "execute_result"
    }
   ],
   "source": [
    "data.month.unique()"
   ]
  },
  {
   "cell_type": "code",
   "execution_count": 14,
   "id": "973e8f4b",
   "metadata": {},
   "outputs": [],
   "source": [
    "data.replace('1', 'January', regex= False, inplace= True)\n",
    "data.replace('2', 'February', regex= False, inplace= True)\n",
    "data.replace('3', 'March', regex= False, inplace= True)\n",
    "data.replace('4', 'April', regex= False, inplace= True)\n",
    "data.replace('5', 'May', regex= False, inplace= True)\n",
    "data.replace('6', 'June', regex= False, inplace= True)\n",
    "data.replace('7', 'July', regex= False, inplace= True)\n",
    "data.replace('8', 'August', regex= False, inplace= True)\n",
    "data.replace('9', 'September', regex= False, inplace= True)\n",
    "data.replace('10', 'October', regex= False, inplace= True)\n",
    "data.replace('11', 'November', regex= False, inplace= True)\n",
    "data.replace('12', 'December', regex= False, inplace= True)"
   ]
  },
  {
   "cell_type": "code",
   "execution_count": 15,
   "id": "4ef32b3b",
   "metadata": {},
   "outputs": [
    {
     "data": {
      "text/plain": [
       "array(['April', 'November', 'December', 'January', 'February', 'March',\n",
       "       'May', 'June', 'August', 'September', 'July', 'October'],\n",
       "      dtype=object)"
      ]
     },
     "execution_count": 15,
     "metadata": {},
     "output_type": "execute_result"
    }
   ],
   "source": [
    "data.month.unique()"
   ]
  },
  {
   "cell_type": "code",
   "execution_count": 16,
   "id": "c8792ebe",
   "metadata": {},
   "outputs": [
    {
     "data": {
      "text/plain": [
       "array(['SG', 'MY', 'India', 'Pakistan', 'United States', 'Canada',\n",
       "       'unknown', 'Serbia', 'United Kingdom', 'France', 'Singapore',\n",
       "       'China', 'Malaysia', 'Sri Lanka', 'Spain', 'Bangladesh',\n",
       "       'Philippines', 'Macedonia', 'Romania', 'Kenya', 'Slovenia',\n",
       "       'New Zealand', 'Nigeria', 'Ghana', 'Indonesia', 'Nepal', 'Morocco',\n",
       "       'USA', 'Lebanon', 'india', 'Trinidad and Tobago', 'INDIA',\n",
       "       'srilanka', 'jamaica', 'Hungary', 'Australia', 'Italia',\n",
       "       'BARBADOS', 'Turkey', 'UK'], dtype=object)"
      ]
     },
     "execution_count": 16,
     "metadata": {},
     "output_type": "execute_result"
    }
   ],
   "source": [
    "data.country.unique()"
   ]
  },
  {
   "cell_type": "code",
   "execution_count": 17,
   "id": "c556940a",
   "metadata": {},
   "outputs": [
    {
     "data": {
      "text/plain": [
       "40"
      ]
     },
     "execution_count": 17,
     "metadata": {},
     "output_type": "execute_result"
    }
   ],
   "source": [
    "data.country.nunique()"
   ]
  },
  {
   "cell_type": "code",
   "execution_count": 18,
   "id": "dd71239f",
   "metadata": {},
   "outputs": [],
   "source": [
    "# replacing some instances where a country is refered to in two different forms or names such as INDIA, india, and India..\n",
    "data.replace('SG', 'Singapore', regex = False, inplace = True)\n",
    "data.replace('MY', 'Malaysia', regex = False, inplace = True)\n",
    "data.replace('USA', 'United States', regex = False, inplace = True)\n",
    "data.replace('india', 'India', regex = False, inplace = True)\n",
    "data.replace('INDIA', 'India', regex = False, inplace = True)\n",
    "data.replace('srilanka', 'Sri Lanka', regex = False, inplace = True)\n",
    "data.replace('jamaica', 'Jamaica', regex = False, inplace = True)\n",
    "data.replace('UK', 'United Kingdom', regex = False, inplace = True)\n",
    "data.replace('BARBADOS', 'Barbados', regex = False, inplace = True)"
   ]
  },
  {
   "cell_type": "code",
   "execution_count": 19,
   "id": "47bcde0f",
   "metadata": {},
   "outputs": [
    {
     "data": {
      "text/plain": [
       "33"
      ]
     },
     "execution_count": 19,
     "metadata": {},
     "output_type": "execute_result"
    }
   ],
   "source": [
    "data.country.nunique()"
   ]
  },
  {
   "cell_type": "code",
   "execution_count": 20,
   "id": "b161b70f",
   "metadata": {},
   "outputs": [
    {
     "data": {
      "text/html": [
       "<div>\n",
       "<style scoped>\n",
       "    .dataframe tbody tr th:only-of-type {\n",
       "        vertical-align: middle;\n",
       "    }\n",
       "\n",
       "    .dataframe tbody tr th {\n",
       "        vertical-align: top;\n",
       "    }\n",
       "\n",
       "    .dataframe thead th {\n",
       "        text-align: right;\n",
       "    }\n",
       "</style>\n",
       "<table border=\"1\" class=\"dataframe\">\n",
       "  <thead>\n",
       "    <tr style=\"text-align: right;\">\n",
       "      <th></th>\n",
       "      <th>id</th>\n",
       "      <th>Message</th>\n",
       "      <th>length</th>\n",
       "      <th>country</th>\n",
       "      <th>year</th>\n",
       "      <th>month</th>\n",
       "    </tr>\n",
       "  </thead>\n",
       "  <tbody>\n",
       "    <tr>\n",
       "      <th>0</th>\n",
       "      <td>10120</td>\n",
       "      <td>Bugis oso near wat...</td>\n",
       "      <td>21</td>\n",
       "      <td>Singapore</td>\n",
       "      <td>2003</td>\n",
       "      <td>April</td>\n",
       "    </tr>\n",
       "    <tr>\n",
       "      <th>1</th>\n",
       "      <td>10121</td>\n",
       "      <td>Go until jurong point, crazy.. Available only ...</td>\n",
       "      <td>111</td>\n",
       "      <td>Singapore</td>\n",
       "      <td>2003</td>\n",
       "      <td>April</td>\n",
       "    </tr>\n",
       "    <tr>\n",
       "      <th>2</th>\n",
       "      <td>10122</td>\n",
       "      <td>I dunno until when... Lets go learn pilates...</td>\n",
       "      <td>46</td>\n",
       "      <td>Singapore</td>\n",
       "      <td>2003</td>\n",
       "      <td>April</td>\n",
       "    </tr>\n",
       "    <tr>\n",
       "      <th>3</th>\n",
       "      <td>10123</td>\n",
       "      <td>Den only weekdays got special price... Haiz......</td>\n",
       "      <td>140</td>\n",
       "      <td>Singapore</td>\n",
       "      <td>2003</td>\n",
       "      <td>April</td>\n",
       "    </tr>\n",
       "    <tr>\n",
       "      <th>4</th>\n",
       "      <td>10124</td>\n",
       "      <td>Meet after lunch la...</td>\n",
       "      <td>22</td>\n",
       "      <td>Singapore</td>\n",
       "      <td>2003</td>\n",
       "      <td>April</td>\n",
       "    </tr>\n",
       "    <tr>\n",
       "      <th>...</th>\n",
       "      <td>...</td>\n",
       "      <td>...</td>\n",
       "      <td>...</td>\n",
       "      <td>...</td>\n",
       "      <td>...</td>\n",
       "      <td>...</td>\n",
       "    </tr>\n",
       "    <tr>\n",
       "      <th>48593</th>\n",
       "      <td>45712</td>\n",
       "      <td>Come to me AFTER NOON</td>\n",
       "      <td>21</td>\n",
       "      <td>Serbia</td>\n",
       "      <td>2015</td>\n",
       "      <td>March</td>\n",
       "    </tr>\n",
       "    <tr>\n",
       "      <th>48594</th>\n",
       "      <td>45714</td>\n",
       "      <td>I LOVE YOU TOO</td>\n",
       "      <td>14</td>\n",
       "      <td>Serbia</td>\n",
       "      <td>2015</td>\n",
       "      <td>March</td>\n",
       "    </tr>\n",
       "    <tr>\n",
       "      <th>48595</th>\n",
       "      <td>45715</td>\n",
       "      <td>C-YA</td>\n",
       "      <td>4</td>\n",
       "      <td>Serbia</td>\n",
       "      <td>2015</td>\n",
       "      <td>March</td>\n",
       "    </tr>\n",
       "    <tr>\n",
       "      <th>48596</th>\n",
       "      <td>45717</td>\n",
       "      <td>BE MY GUEST</td>\n",
       "      <td>11</td>\n",
       "      <td>Serbia</td>\n",
       "      <td>2015</td>\n",
       "      <td>March</td>\n",
       "    </tr>\n",
       "    <tr>\n",
       "      <th>48597</th>\n",
       "      <td>45718</td>\n",
       "      <td>MANY MANY MANY PEOPLE</td>\n",
       "      <td>21</td>\n",
       "      <td>Serbia</td>\n",
       "      <td>2015</td>\n",
       "      <td>March</td>\n",
       "    </tr>\n",
       "  </tbody>\n",
       "</table>\n",
       "<p>48591 rows × 6 columns</p>\n",
       "</div>"
      ],
      "text/plain": [
       "          id                                            Message  length  \\\n",
       "0      10120                              Bugis oso near wat...      21   \n",
       "1      10121  Go until jurong point, crazy.. Available only ...     111   \n",
       "2      10122     I dunno until when... Lets go learn pilates...      46   \n",
       "3      10123  Den only weekdays got special price... Haiz......     140   \n",
       "4      10124                             Meet after lunch la...      22   \n",
       "...      ...                                                ...     ...   \n",
       "48593  45712                              Come to me AFTER NOON      21   \n",
       "48594  45714                                     I LOVE YOU TOO      14   \n",
       "48595  45715                                               C-YA       4   \n",
       "48596  45717                                        BE MY GUEST      11   \n",
       "48597  45718                              MANY MANY MANY PEOPLE      21   \n",
       "\n",
       "         country  year  month  \n",
       "0      Singapore  2003  April  \n",
       "1      Singapore  2003  April  \n",
       "2      Singapore  2003  April  \n",
       "3      Singapore  2003  April  \n",
       "4      Singapore  2003  April  \n",
       "...          ...   ...    ...  \n",
       "48593     Serbia  2015  March  \n",
       "48594     Serbia  2015  March  \n",
       "48595     Serbia  2015  March  \n",
       "48596     Serbia  2015  March  \n",
       "48597     Serbia  2015  March  \n",
       "\n",
       "[48591 rows x 6 columns]"
      ]
     },
     "execution_count": 20,
     "metadata": {},
     "output_type": "execute_result"
    }
   ],
   "source": [
    "data"
   ]
  },
  {
   "cell_type": "code",
   "execution_count": 21,
   "id": "72e4d5a6",
   "metadata": {},
   "outputs": [],
   "source": [
    "import matplotlib.pyplot as plt \n",
    "import numpy as np\n",
    "import seaborn as sns"
   ]
  },
  {
   "cell_type": "markdown",
   "id": "2bbe5c46",
   "metadata": {},
   "source": [
    "To get a better idea of the general outlook of the data we can use seaborn and matplot libraries to understand our data, it is hard to get a general idea just by looking at the table, graphs provide a general outlook to what we are dealing with, we can plot a graph that shows the number of text messages sent by each country and see which country has the highest and which country is the lowest, and we can also find which year recorded the highest number of messages sent."
   ]
  },
  {
   "cell_type": "code",
   "execution_count": 22,
   "id": "e189b50c",
   "metadata": {},
   "outputs": [
    {
     "data": {
      "image/png": "[encoded data removed]",
      "text/plain": [
       "<Figure size 1200x800 with 1 Axes>"
      ]
     },
     "metadata": {},
     "output_type": "display_data"
    }
   ],
   "source": [
    "plt.figure(figsize=(12,8))\n",
    "sns.set_context('notebook')\n",
    "sns.countplot(data=data, x='country')\n",
    "sns.set_context('notebook')\n",
    "sns.color_palette('tab10')\n",
    "plt.title('# of Messages Sent per country')\n",
    "plt.xlabel('Country')\n",
    "plt.xticks(rotation=90)\n",
    "plt.ylabel('# of Messages sent')\n",
    "plt.show()"
   ]
  },
  {
   "cell_type": "markdown",
   "id": "923ee4ea",
   "metadata": {},
   "source": [
    "Here we notice that majority of the texts or messaes sent in this data set originated from Singapore and in second place is India and USA at third"
   ]
  },
  {
   "cell_type": "markdown",
   "id": "96499dbc",
   "metadata": {},
   "source": [
    "So any further operation such as finding out the TF and TF_idf and conducting sentiment analysis will be done for Singapore\n",
    "because majority of the texts originated from there."
   ]
  },
  {
   "cell_type": "markdown",
   "id": "8d8090d4",
   "metadata": {},
   "source": [
    "But before that lets find which years had the highest number of text messages sent and the average of the text length for each country."
   ]
  },
  {
   "cell_type": "code",
   "execution_count": 23,
   "id": "54cf433c",
   "metadata": {},
   "outputs": [
    {
     "data": {
      "text/plain": [
       "array(['2003', '2010', '2011', '2012', '2013', '2014', '2015'],\n",
       "      dtype=object)"
      ]
     },
     "execution_count": 23,
     "metadata": {},
     "output_type": "execute_result"
    }
   ],
   "source": [
    "data['year'].unique()"
   ]
  },
  {
   "cell_type": "code",
   "execution_count": 24,
   "id": "8019eb3c",
   "metadata": {},
   "outputs": [
    {
     "data": {
      "image/png": "[encoded data removed]",
      "text/plain": [
       "<Figure size 1200x800 with 1 Axes>"
      ]
     },
     "metadata": {},
     "output_type": "display_data"
    }
   ],
   "source": [
    "# messages sent for each year\n",
    "plt.figure(figsize=(12,8))\n",
    "sns.set_context('notebook')\n",
    "sns.color_palette('Set2')\n",
    "sns.countplot(data=data, x='year')\n",
    "plt.title('# of Messages for each Year')\n",
    "plt.xlabel('Year')\n",
    "plt.ylabel('# of messages sent')\n",
    "plt.show()"
   ]
  },
  {
   "cell_type": "markdown",
   "id": "9c9898af",
   "metadata": {},
   "source": [
    "2011 has the highest amount of messages sent, and 2013 has the lowest messaes sent."
   ]
  },
  {
   "cell_type": "code",
   "execution_count": 25,
   "id": "3d2b17df",
   "metadata": {},
   "outputs": [],
   "source": [
    "text_length = data.groupby(['country']).length.mean().reset_index()"
   ]
  },
  {
   "cell_type": "code",
   "execution_count": 26,
   "id": "c5d4bcd3",
   "metadata": {},
   "outputs": [],
   "source": [
    "text_length.sort_values(by=['length'], ascending = False, inplace = True)"
   ]
  },
  {
   "cell_type": "code",
   "execution_count": 27,
   "id": "aae1ade2",
   "metadata": {},
   "outputs": [
    {
     "name": "stdout",
     "output_type": "stream",
     "text": [
      "      country      length\n",
      "3      Canada  103.782828\n",
      "27  Sri Lanka   94.493792\n",
      "14  Macedonia   92.200000\n",
      "6       Ghana   73.500000\n",
      "24  Singapore   55.996134\n"
     ]
    }
   ],
   "source": [
    "print(text_length.nlargest(5, 'length'))"
   ]
  },
  {
   "cell_type": "markdown",
   "id": "f7419f93",
   "metadata": {},
   "source": [
    "## Test preprocessing."
   ]
  },
  {
   "cell_type": "code",
   "execution_count": 28,
   "id": "2c9fa6b2",
   "metadata": {},
   "outputs": [],
   "source": [
    "# Noise removal and whitespace removal..\n",
    "def noise_removal(text):\n",
    "    return re.sub(r',|\\.|\\:|;|-|/|&|!|\\?|\\(|\\)|\\+|@|<|>|#|~|=|\\$|\\*|[|]|{|}',' ',text)\n",
    "def replace_apostrophy(text):\n",
    "    return re.sub(r\"'\",' ',text)\n",
    "\n",
    "def replace_cross_mark(text):\n",
    "    return re.sub(r\"┾\",' ',text)\n",
    "def whitespace_removal(text):\n",
    "    return re.sub(r'\\s+', ' ', text)\n",
    "data.Message = data.Message.replace('<DECIMAL>', ' ', regex = False)"
   ]
  },
  {
   "cell_type": "code",
   "execution_count": 29,
   "id": "81244cec",
   "metadata": {},
   "outputs": [],
   "source": [
    "data.Message = data.Message.apply(lambda x: noise_removal(x))\n",
    "data.Message = data.Message.apply(lambda x: replace_apostrophy(x))\n",
    "data.Message = data.Message.apply(lambda x: replace_cross_mark(x))\n",
    "data.Message = data.Message.apply(lambda x: whitespace_removal(x))\n",
    "#we also need to apply the function .lower() to the text messages\n",
    "data.Message = data.Message.apply(lambda x: x.lower())"
   ]
  },
  {
   "cell_type": "markdown",
   "id": "6428103e",
   "metadata": {},
   "source": [
    "## Tokenization and stopwords removal."
   ]
  },
  {
   "cell_type": "code",
   "execution_count": 30,
   "id": "8439acf3",
   "metadata": {},
   "outputs": [],
   "source": [
    "data['Message_token'] = data.Message.apply(lambda x: word_tokenize(x))"
   ]
  },
  {
   "cell_type": "code",
   "execution_count": 31,
   "id": "2c7eb06b",
   "metadata": {},
   "outputs": [
    {
     "data": {
      "text/html": [
       "<div>\n",
       "<style scoped>\n",
       "    .dataframe tbody tr th:only-of-type {\n",
       "        vertical-align: middle;\n",
       "    }\n",
       "\n",
       "    .dataframe tbody tr th {\n",
       "        vertical-align: top;\n",
       "    }\n",
       "\n",
       "    .dataframe thead th {\n",
       "        text-align: right;\n",
       "    }\n",
       "</style>\n",
       "<table border=\"1\" class=\"dataframe\">\n",
       "  <thead>\n",
       "    <tr style=\"text-align: right;\">\n",
       "      <th></th>\n",
       "      <th>id</th>\n",
       "      <th>Message</th>\n",
       "      <th>length</th>\n",
       "      <th>country</th>\n",
       "      <th>year</th>\n",
       "      <th>month</th>\n",
       "      <th>Message_token</th>\n",
       "    </tr>\n",
       "  </thead>\n",
       "  <tbody>\n",
       "    <tr>\n",
       "      <th>0</th>\n",
       "      <td>10120</td>\n",
       "      <td>bugis oso near wat</td>\n",
       "      <td>21</td>\n",
       "      <td>Singapore</td>\n",
       "      <td>2003</td>\n",
       "      <td>April</td>\n",
       "      <td>[bugis, oso, near, wat]</td>\n",
       "    </tr>\n",
       "    <tr>\n",
       "      <th>1</th>\n",
       "      <td>10121</td>\n",
       "      <td>go until jurong point crazy available only in ...</td>\n",
       "      <td>111</td>\n",
       "      <td>Singapore</td>\n",
       "      <td>2003</td>\n",
       "      <td>April</td>\n",
       "      <td>[go, until, jurong, point, crazy, available, o...</td>\n",
       "    </tr>\n",
       "    <tr>\n",
       "      <th>2</th>\n",
       "      <td>10122</td>\n",
       "      <td>i dunno until when lets go learn pilates</td>\n",
       "      <td>46</td>\n",
       "      <td>Singapore</td>\n",
       "      <td>2003</td>\n",
       "      <td>April</td>\n",
       "      <td>[i, dunno, until, when, lets, go, learn, pilates]</td>\n",
       "    </tr>\n",
       "    <tr>\n",
       "      <th>3</th>\n",
       "      <td>10123</td>\n",
       "      <td>den only weekdays got special price haiz cant ...</td>\n",
       "      <td>140</td>\n",
       "      <td>Singapore</td>\n",
       "      <td>2003</td>\n",
       "      <td>April</td>\n",
       "      <td>[den, only, weekdays, got, special, price, hai...</td>\n",
       "    </tr>\n",
       "    <tr>\n",
       "      <th>4</th>\n",
       "      <td>10124</td>\n",
       "      <td>meet after lunch la</td>\n",
       "      <td>22</td>\n",
       "      <td>Singapore</td>\n",
       "      <td>2003</td>\n",
       "      <td>April</td>\n",
       "      <td>[meet, after, lunch, la]</td>\n",
       "    </tr>\n",
       "    <tr>\n",
       "      <th>...</th>\n",
       "      <td>...</td>\n",
       "      <td>...</td>\n",
       "      <td>...</td>\n",
       "      <td>...</td>\n",
       "      <td>...</td>\n",
       "      <td>...</td>\n",
       "      <td>...</td>\n",
       "    </tr>\n",
       "    <tr>\n",
       "      <th>48593</th>\n",
       "      <td>45712</td>\n",
       "      <td>come to me after noon</td>\n",
       "      <td>21</td>\n",
       "      <td>Serbia</td>\n",
       "      <td>2015</td>\n",
       "      <td>March</td>\n",
       "      <td>[come, to, me, after, noon]</td>\n",
       "    </tr>\n",
       "    <tr>\n",
       "      <th>48594</th>\n",
       "      <td>45714</td>\n",
       "      <td>i love you too</td>\n",
       "      <td>14</td>\n",
       "      <td>Serbia</td>\n",
       "      <td>2015</td>\n",
       "      <td>March</td>\n",
       "      <td>[i, love, you, too]</td>\n",
       "    </tr>\n",
       "    <tr>\n",
       "      <th>48595</th>\n",
       "      <td>45715</td>\n",
       "      <td>c ya</td>\n",
       "      <td>4</td>\n",
       "      <td>Serbia</td>\n",
       "      <td>2015</td>\n",
       "      <td>March</td>\n",
       "      <td>[c, ya]</td>\n",
       "    </tr>\n",
       "    <tr>\n",
       "      <th>48596</th>\n",
       "      <td>45717</td>\n",
       "      <td>be my guest</td>\n",
       "      <td>11</td>\n",
       "      <td>Serbia</td>\n",
       "      <td>2015</td>\n",
       "      <td>March</td>\n",
       "      <td>[be, my, guest]</td>\n",
       "    </tr>\n",
       "    <tr>\n",
       "      <th>48597</th>\n",
       "      <td>45718</td>\n",
       "      <td>many many many people</td>\n",
       "      <td>21</td>\n",
       "      <td>Serbia</td>\n",
       "      <td>2015</td>\n",
       "      <td>March</td>\n",
       "      <td>[many, many, many, people]</td>\n",
       "    </tr>\n",
       "  </tbody>\n",
       "</table>\n",
       "<p>48591 rows × 7 columns</p>\n",
       "</div>"
      ],
      "text/plain": [
       "          id                                            Message  length  \\\n",
       "0      10120                                bugis oso near wat       21   \n",
       "1      10121  go until jurong point crazy available only in ...     111   \n",
       "2      10122          i dunno until when lets go learn pilates       46   \n",
       "3      10123  den only weekdays got special price haiz cant ...     140   \n",
       "4      10124                               meet after lunch la       22   \n",
       "...      ...                                                ...     ...   \n",
       "48593  45712                              come to me after noon      21   \n",
       "48594  45714                                     i love you too      14   \n",
       "48595  45715                                               c ya       4   \n",
       "48596  45717                                        be my guest      11   \n",
       "48597  45718                              many many many people      21   \n",
       "\n",
       "         country  year  month  \\\n",
       "0      Singapore  2003  April   \n",
       "1      Singapore  2003  April   \n",
       "2      Singapore  2003  April   \n",
       "3      Singapore  2003  April   \n",
       "4      Singapore  2003  April   \n",
       "...          ...   ...    ...   \n",
       "48593     Serbia  2015  March   \n",
       "48594     Serbia  2015  March   \n",
       "48595     Serbia  2015  March   \n",
       "48596     Serbia  2015  March   \n",
       "48597     Serbia  2015  March   \n",
       "\n",
       "                                           Message_token  \n",
       "0                                [bugis, oso, near, wat]  \n",
       "1      [go, until, jurong, point, crazy, available, o...  \n",
       "2      [i, dunno, until, when, lets, go, learn, pilates]  \n",
       "3      [den, only, weekdays, got, special, price, hai...  \n",
       "4                               [meet, after, lunch, la]  \n",
       "...                                                  ...  \n",
       "48593                        [come, to, me, after, noon]  \n",
       "48594                                [i, love, you, too]  \n",
       "48595                                            [c, ya]  \n",
       "48596                                    [be, my, guest]  \n",
       "48597                         [many, many, many, people]  \n",
       "\n",
       "[48591 rows x 7 columns]"
      ]
     },
     "execution_count": 31,
     "metadata": {},
     "output_type": "execute_result"
    }
   ],
   "source": [
    "data"
   ]
  },
  {
   "cell_type": "code",
   "execution_count": 32,
   "id": "aded8833",
   "metadata": {},
   "outputs": [],
   "source": [
    "stopwords = set(stopwords.words('english'))"
   ]
  },
  {
   "cell_type": "code",
   "execution_count": 33,
   "id": "6d09257c",
   "metadata": {},
   "outputs": [],
   "source": [
    "# in order to remove the stopwords from each message in the data frame we can create an empty list, and\n",
    "# make iterate through it for each row\n",
    "data['Message_token_filtered'] = [list() for i in range(len(data['Message_token']))]\n",
    "for i in range(len(data['Message_token'])):\n",
    "    filtered_text = data.Message_token.iloc[i]\n",
    "    for word in filtered_text:\n",
    "        if not word in stopwords:\n",
    "            data.Message_token_filtered.iloc[i].append(word)"
   ]
  },
  {
   "cell_type": "code",
   "execution_count": 34,
   "id": "99dbfa17",
   "metadata": {
    "scrolled": true
   },
   "outputs": [
    {
     "data": {
      "text/html": [
       "<div>\n",
       "<style scoped>\n",
       "    .dataframe tbody tr th:only-of-type {\n",
       "        vertical-align: middle;\n",
       "    }\n",
       "\n",
       "    .dataframe tbody tr th {\n",
       "        vertical-align: top;\n",
       "    }\n",
       "\n",
       "    .dataframe thead th {\n",
       "        text-align: right;\n",
       "    }\n",
       "</style>\n",
       "<table border=\"1\" class=\"dataframe\">\n",
       "  <thead>\n",
       "    <tr style=\"text-align: right;\">\n",
       "      <th></th>\n",
       "      <th>id</th>\n",
       "      <th>Message</th>\n",
       "      <th>length</th>\n",
       "      <th>country</th>\n",
       "      <th>year</th>\n",
       "      <th>month</th>\n",
       "      <th>Message_token</th>\n",
       "      <th>Message_token_filtered</th>\n",
       "    </tr>\n",
       "  </thead>\n",
       "  <tbody>\n",
       "    <tr>\n",
       "      <th>0</th>\n",
       "      <td>10120</td>\n",
       "      <td>bugis oso near wat</td>\n",
       "      <td>21</td>\n",
       "      <td>Singapore</td>\n",
       "      <td>2003</td>\n",
       "      <td>April</td>\n",
       "      <td>[bugis, oso, near, wat]</td>\n",
       "      <td>[bugis, oso, near, wat]</td>\n",
       "    </tr>\n",
       "    <tr>\n",
       "      <th>1</th>\n",
       "      <td>10121</td>\n",
       "      <td>go until jurong point crazy available only in ...</td>\n",
       "      <td>111</td>\n",
       "      <td>Singapore</td>\n",
       "      <td>2003</td>\n",
       "      <td>April</td>\n",
       "      <td>[go, until, jurong, point, crazy, available, o...</td>\n",
       "      <td>[go, jurong, point, crazy, available, bugis, n...</td>\n",
       "    </tr>\n",
       "    <tr>\n",
       "      <th>2</th>\n",
       "      <td>10122</td>\n",
       "      <td>i dunno until when lets go learn pilates</td>\n",
       "      <td>46</td>\n",
       "      <td>Singapore</td>\n",
       "      <td>2003</td>\n",
       "      <td>April</td>\n",
       "      <td>[i, dunno, until, when, lets, go, learn, pilates]</td>\n",
       "      <td>[dunno, lets, go, learn, pilates]</td>\n",
       "    </tr>\n",
       "    <tr>\n",
       "      <th>3</th>\n",
       "      <td>10123</td>\n",
       "      <td>den only weekdays got special price haiz cant ...</td>\n",
       "      <td>140</td>\n",
       "      <td>Singapore</td>\n",
       "      <td>2003</td>\n",
       "      <td>April</td>\n",
       "      <td>[den, only, weekdays, got, special, price, hai...</td>\n",
       "      <td>[den, weekdays, got, special, price, haiz, can...</td>\n",
       "    </tr>\n",
       "    <tr>\n",
       "      <th>4</th>\n",
       "      <td>10124</td>\n",
       "      <td>meet after lunch la</td>\n",
       "      <td>22</td>\n",
       "      <td>Singapore</td>\n",
       "      <td>2003</td>\n",
       "      <td>April</td>\n",
       "      <td>[meet, after, lunch, la]</td>\n",
       "      <td>[meet, lunch, la]</td>\n",
       "    </tr>\n",
       "    <tr>\n",
       "      <th>5</th>\n",
       "      <td>10125</td>\n",
       "      <td>m walking in citylink now ü faster come down m...</td>\n",
       "      <td>65</td>\n",
       "      <td>Singapore</td>\n",
       "      <td>2003</td>\n",
       "      <td>April</td>\n",
       "      <td>[m, walking, in, citylink, now, ü, faster, com...</td>\n",
       "      <td>[walking, citylink, ü, faster, come, hungry]</td>\n",
       "    </tr>\n",
       "    <tr>\n",
       "      <th>6</th>\n",
       "      <td>10126</td>\n",
       "      <td>5 nights we nt staying at port step liao too ex</td>\n",
       "      <td>51</td>\n",
       "      <td>Singapore</td>\n",
       "      <td>2003</td>\n",
       "      <td>April</td>\n",
       "      <td>[5, nights, we, nt, staying, at, port, step, l...</td>\n",
       "      <td>[5, nights, nt, staying, port, step, liao, ex]</td>\n",
       "    </tr>\n",
       "    <tr>\n",
       "      <th>7</th>\n",
       "      <td>10127</td>\n",
       "      <td>hey pple 700 or 900 for 5 nights excellent loc...</td>\n",
       "      <td>81</td>\n",
       "      <td>Singapore</td>\n",
       "      <td>2003</td>\n",
       "      <td>April</td>\n",
       "      <td>[hey, pple, 700, or, 900, for, 5, nights, exce...</td>\n",
       "      <td>[hey, pple, 700, 900, 5, nights, excellent, lo...</td>\n",
       "    </tr>\n",
       "    <tr>\n",
       "      <th>8</th>\n",
       "      <td>10128</td>\n",
       "      <td>yun ah the ubi one say if ü wan call by tomorr...</td>\n",
       "      <td>160</td>\n",
       "      <td>Singapore</td>\n",
       "      <td>2003</td>\n",
       "      <td>April</td>\n",
       "      <td>[yun, ah, the, ubi, one, say, if, ü, wan, call...</td>\n",
       "      <td>[yun, ah, ubi, one, say, ü, wan, call, tomorro...</td>\n",
       "    </tr>\n",
       "    <tr>\n",
       "      <th>9</th>\n",
       "      <td>10129</td>\n",
       "      <td>hey tmr maybe can meet you at yck</td>\n",
       "      <td>33</td>\n",
       "      <td>Singapore</td>\n",
       "      <td>2003</td>\n",
       "      <td>April</td>\n",
       "      <td>[hey, tmr, maybe, can, meet, you, at, yck]</td>\n",
       "      <td>[hey, tmr, maybe, meet, yck]</td>\n",
       "    </tr>\n",
       "    <tr>\n",
       "      <th>10</th>\n",
       "      <td>10130</td>\n",
       "      <td>oh i asked for fun haha take care ü</td>\n",
       "      <td>41</td>\n",
       "      <td>Singapore</td>\n",
       "      <td>2003</td>\n",
       "      <td>April</td>\n",
       "      <td>[oh, i, asked, for, fun, haha, take, care, ü]</td>\n",
       "      <td>[oh, asked, fun, haha, take, care, ü]</td>\n",
       "    </tr>\n",
       "    <tr>\n",
       "      <th>11</th>\n",
       "      <td>10131</td>\n",
       "      <td>we are supposed to meet to discuss abt our tri...</td>\n",
       "      <td>132</td>\n",
       "      <td>Singapore</td>\n",
       "      <td>2003</td>\n",
       "      <td>April</td>\n",
       "      <td>[we, are, supposed, to, meet, to, discuss, abt...</td>\n",
       "      <td>[supposed, meet, discuss, abt, trip, thought, ...</td>\n",
       "    </tr>\n",
       "    <tr>\n",
       "      <th>12</th>\n",
       "      <td>10132</td>\n",
       "      <td>t finish my film yet</td>\n",
       "      <td>23</td>\n",
       "      <td>Singapore</td>\n",
       "      <td>2003</td>\n",
       "      <td>April</td>\n",
       "      <td>[t, finish, my, film, yet]</td>\n",
       "      <td>[finish, film, yet]</td>\n",
       "    </tr>\n",
       "    <tr>\n",
       "      <th>13</th>\n",
       "      <td>10133</td>\n",
       "      <td>m having dinner with my cousin</td>\n",
       "      <td>33</td>\n",
       "      <td>Singapore</td>\n",
       "      <td>2003</td>\n",
       "      <td>April</td>\n",
       "      <td>[m, having, dinner, with, my, cousin]</td>\n",
       "      <td>[dinner, cousin]</td>\n",
       "    </tr>\n",
       "    <tr>\n",
       "      <th>14</th>\n",
       "      <td>10134</td>\n",
       "      <td>oh kay on sat right</td>\n",
       "      <td>26</td>\n",
       "      <td>Singapore</td>\n",
       "      <td>2003</td>\n",
       "      <td>April</td>\n",
       "      <td>[oh, kay, on, sat, right]</td>\n",
       "      <td>[oh, kay, sat, right]</td>\n",
       "    </tr>\n",
       "    <tr>\n",
       "      <th>15</th>\n",
       "      <td>10135</td>\n",
       "      <td>i need coz i never go before</td>\n",
       "      <td>31</td>\n",
       "      <td>Singapore</td>\n",
       "      <td>2003</td>\n",
       "      <td>April</td>\n",
       "      <td>[i, need, coz, i, never, go, before]</td>\n",
       "      <td>[need, coz, never, go]</td>\n",
       "    </tr>\n",
       "    <tr>\n",
       "      <th>16</th>\n",
       "      <td>10136</td>\n",
       "      <td>s a basic yoga course at bugis we can go for t...</td>\n",
       "      <td>114</td>\n",
       "      <td>Singapore</td>\n",
       "      <td>2003</td>\n",
       "      <td>April</td>\n",
       "      <td>[s, a, basic, yoga, course, at, bugis, we, can...</td>\n",
       "      <td>[basic, yoga, course, bugis, go, pilates, intr...</td>\n",
       "    </tr>\n",
       "    <tr>\n",
       "      <th>17</th>\n",
       "      <td>10137</td>\n",
       "      <td>i am going to sao mu today will be done only a...</td>\n",
       "      <td>51</td>\n",
       "      <td>Singapore</td>\n",
       "      <td>2003</td>\n",
       "      <td>April</td>\n",
       "      <td>[i, am, going, to, sao, mu, today, will, be, d...</td>\n",
       "      <td>[going, sao, mu, today, done, 12]</td>\n",
       "    </tr>\n",
       "    <tr>\n",
       "      <th>18</th>\n",
       "      <td>10138</td>\n",
       "      <td>hey gals u all wanna meet 4 dinner at nìte</td>\n",
       "      <td>45</td>\n",
       "      <td>Singapore</td>\n",
       "      <td>2003</td>\n",
       "      <td>April</td>\n",
       "      <td>[hey, gals, u, all, wan, na, meet, 4, dinner, ...</td>\n",
       "      <td>[hey, gals, u, wan, na, meet, 4, dinner, nìte]</td>\n",
       "    </tr>\n",
       "    <tr>\n",
       "      <th>19</th>\n",
       "      <td>10139</td>\n",
       "      <td>jos ask if u wana meet up</td>\n",
       "      <td>26</td>\n",
       "      <td>Singapore</td>\n",
       "      <td>2003</td>\n",
       "      <td>April</td>\n",
       "      <td>[jos, ask, if, u, wana, meet, up]</td>\n",
       "      <td>[jos, ask, u, wana, meet]</td>\n",
       "    </tr>\n",
       "  </tbody>\n",
       "</table>\n",
       "</div>"
      ],
      "text/plain": [
       "       id                                            Message  length  \\\n",
       "0   10120                                bugis oso near wat       21   \n",
       "1   10121  go until jurong point crazy available only in ...     111   \n",
       "2   10122          i dunno until when lets go learn pilates       46   \n",
       "3   10123  den only weekdays got special price haiz cant ...     140   \n",
       "4   10124                               meet after lunch la       22   \n",
       "5   10125  m walking in citylink now ü faster come down m...      65   \n",
       "6   10126    5 nights we nt staying at port step liao too ex      51   \n",
       "7   10127  hey pple 700 or 900 for 5 nights excellent loc...      81   \n",
       "8   10128  yun ah the ubi one say if ü wan call by tomorr...     160   \n",
       "9   10129                  hey tmr maybe can meet you at yck      33   \n",
       "10  10130                oh i asked for fun haha take care ü      41   \n",
       "11  10131  we are supposed to meet to discuss abt our tri...     132   \n",
       "12  10132                              t finish my film yet       23   \n",
       "13  10133                    m having dinner with my cousin       33   \n",
       "14  10134                               oh kay on sat right       26   \n",
       "15  10135                       i need coz i never go before      31   \n",
       "16  10136  s a basic yoga course at bugis we can go for t...     114   \n",
       "17  10137  i am going to sao mu today will be done only a...      51   \n",
       "18  10138        hey gals u all wanna meet 4 dinner at nìte       45   \n",
       "19  10139                         jos ask if u wana meet up       26   \n",
       "\n",
       "      country  year  month                                      Message_token  \\\n",
       "0   Singapore  2003  April                            [bugis, oso, near, wat]   \n",
       "1   Singapore  2003  April  [go, until, jurong, point, crazy, available, o...   \n",
       "2   Singapore  2003  April  [i, dunno, until, when, lets, go, learn, pilates]   \n",
       "3   Singapore  2003  April  [den, only, weekdays, got, special, price, hai...   \n",
       "4   Singapore  2003  April                           [meet, after, lunch, la]   \n",
       "5   Singapore  2003  April  [m, walking, in, citylink, now, ü, faster, com...   \n",
       "6   Singapore  2003  April  [5, nights, we, nt, staying, at, port, step, l...   \n",
       "7   Singapore  2003  April  [hey, pple, 700, or, 900, for, 5, nights, exce...   \n",
       "8   Singapore  2003  April  [yun, ah, the, ubi, one, say, if, ü, wan, call...   \n",
       "9   Singapore  2003  April         [hey, tmr, maybe, can, meet, you, at, yck]   \n",
       "10  Singapore  2003  April      [oh, i, asked, for, fun, haha, take, care, ü]   \n",
       "11  Singapore  2003  April  [we, are, supposed, to, meet, to, discuss, abt...   \n",
       "12  Singapore  2003  April                         [t, finish, my, film, yet]   \n",
       "13  Singapore  2003  April              [m, having, dinner, with, my, cousin]   \n",
       "14  Singapore  2003  April                          [oh, kay, on, sat, right]   \n",
       "15  Singapore  2003  April               [i, need, coz, i, never, go, before]   \n",
       "16  Singapore  2003  April  [s, a, basic, yoga, course, at, bugis, we, can...   \n",
       "17  Singapore  2003  April  [i, am, going, to, sao, mu, today, will, be, d...   \n",
       "18  Singapore  2003  April  [hey, gals, u, all, wan, na, meet, 4, dinner, ...   \n",
       "19  Singapore  2003  April                  [jos, ask, if, u, wana, meet, up]   \n",
       "\n",
       "                               Message_token_filtered  \n",
       "0                             [bugis, oso, near, wat]  \n",
       "1   [go, jurong, point, crazy, available, bugis, n...  \n",
       "2                   [dunno, lets, go, learn, pilates]  \n",
       "3   [den, weekdays, got, special, price, haiz, can...  \n",
       "4                                   [meet, lunch, la]  \n",
       "5        [walking, citylink, ü, faster, come, hungry]  \n",
       "6      [5, nights, nt, staying, port, step, liao, ex]  \n",
       "7   [hey, pple, 700, 900, 5, nights, excellent, lo...  \n",
       "8   [yun, ah, ubi, one, say, ü, wan, call, tomorro...  \n",
       "9                        [hey, tmr, maybe, meet, yck]  \n",
       "10              [oh, asked, fun, haha, take, care, ü]  \n",
       "11  [supposed, meet, discuss, abt, trip, thought, ...  \n",
       "12                                [finish, film, yet]  \n",
       "13                                   [dinner, cousin]  \n",
       "14                              [oh, kay, sat, right]  \n",
       "15                             [need, coz, never, go]  \n",
       "16  [basic, yoga, course, bugis, go, pilates, intr...  \n",
       "17                  [going, sao, mu, today, done, 12]  \n",
       "18     [hey, gals, u, wan, na, meet, 4, dinner, nìte]  \n",
       "19                          [jos, ask, u, wana, meet]  "
      ]
     },
     "execution_count": 34,
     "metadata": {},
     "output_type": "execute_result"
    }
   ],
   "source": [
    "data.head(20)"
   ]
  },
  {
   "cell_type": "markdown",
   "id": "f7e422ad",
   "metadata": {},
   "source": [
    "## Lemmatization."
   ]
  },
  {
   "cell_type": "code",
   "execution_count": 35,
   "id": "51d04221",
   "metadata": {},
   "outputs": [],
   "source": [
    "lemmatizer = WordNetLemmatizer()"
   ]
  },
  {
   "cell_type": "code",
   "execution_count": 36,
   "id": "d830d39b",
   "metadata": {},
   "outputs": [
    {
     "name": "stderr",
     "output_type": "stream",
     "text": [
      "[nltk_data] Downloading package wordnet to\n",
      "[nltk_data]     C:\\Users\\ahmed\\AppData\\Roaming\\nltk_data...\n",
      "[nltk_data]   Package wordnet is already up-to-date!\n"
     ]
    },
    {
     "data": {
      "text/plain": [
       "True"
      ]
     },
     "execution_count": 36,
     "metadata": {},
     "output_type": "execute_result"
    }
   ],
   "source": [
    "# in order to counter the Error 'Resource wordnet not found'\n",
    "nltk.download('wordnet')"
   ]
  },
  {
   "cell_type": "code",
   "execution_count": 37,
   "id": "6703d10a",
   "metadata": {},
   "outputs": [],
   "source": [
    "def get_part_of_speech(word):\n",
    "    part_of_speech = wordnet.synsets(word)\n",
    "    pos_counts = Counter()\n",
    "    pos_counts[\"n\"] = len([item for item in part_of_speech if item.pos()==\"n\"])\n",
    "    pos_counts[\"v\"] = len([item for item in part_of_speech if item.pos()==\"v\"])\n",
    "    pos_counts[\"a\"] = len([item for item in part_of_speech if item.pos()==\"a\"])\n",
    "    pos_counts[\"r\"] = len([item for item in part_of_speech if item.pos()==\"r\"])\n",
    "    most_likely_part_of_speech = pos_counts.most_common(1)[0][0]\n",
    "    return most_likely_part_of_speech"
   ]
  },
  {
   "cell_type": "code",
   "execution_count": 38,
   "id": "e176ae6f",
   "metadata": {},
   "outputs": [],
   "source": [
    "data['Message_token_filltered_lemmatized'] = [list() for i in range(len(data['Message_token_filtered']))]\n",
    "\n",
    "for i in range(len(data['Message_token_filtered'])):\n",
    "    text = data.Message_token_filtered.iloc[i]\n",
    "    for word in text:\n",
    "        lemmatized = lemmatizer.lemmatize(word, get_part_of_speech(word))\n",
    "        data.Message_token_filltered_lemmatized.iloc[i].append(lemmatized)"
   ]
  },
  {
   "cell_type": "code",
   "execution_count": 39,
   "id": "17ca6782",
   "metadata": {},
   "outputs": [
    {
     "data": {
      "text/plain": [
       "0                              [bugis, oso, near, wat]\n",
       "1    [go, jurong, point, crazy, available, bugis, n...\n",
       "2                      [dunno, let, go, learn, pilate]\n",
       "3    [den, weekday, get, special, price, haiz, cant...\n",
       "4                                    [meet, lunch, la]\n",
       "Name: Message_token_filltered_lemmatized, dtype: object"
      ]
     },
     "execution_count": 39,
     "metadata": {},
     "output_type": "execute_result"
    }
   ],
   "source": [
    "data.Message_token_filltered_lemmatized.head()"
   ]
  },
  {
   "cell_type": "markdown",
   "id": "99ef9f9c",
   "metadata": {},
   "source": [
    "Tf and TF_IDF for text messages that originated from singapore."
   ]
  },
  {
   "cell_type": "code",
   "execution_count": 40,
   "id": "662beac6",
   "metadata": {},
   "outputs": [],
   "source": [
    "# Lets isolate text messages from singapore on its own data set\n",
    "sg_data = data[data.country == 'Singapore']"
   ]
  },
  {
   "cell_type": "code",
   "execution_count": 41,
   "id": "9cbe3a92",
   "metadata": {
    "scrolled": false
   },
   "outputs": [
    {
     "data": {
      "text/html": [
       "<div>\n",
       "<style scoped>\n",
       "    .dataframe tbody tr th:only-of-type {\n",
       "        vertical-align: middle;\n",
       "    }\n",
       "\n",
       "    .dataframe tbody tr th {\n",
       "        vertical-align: top;\n",
       "    }\n",
       "\n",
       "    .dataframe thead th {\n",
       "        text-align: right;\n",
       "    }\n",
       "</style>\n",
       "<table border=\"1\" class=\"dataframe\">\n",
       "  <thead>\n",
       "    <tr style=\"text-align: right;\">\n",
       "      <th></th>\n",
       "      <th>id</th>\n",
       "      <th>Message</th>\n",
       "      <th>length</th>\n",
       "      <th>country</th>\n",
       "      <th>year</th>\n",
       "      <th>month</th>\n",
       "      <th>Message_token</th>\n",
       "      <th>Message_token_filtered</th>\n",
       "      <th>Message_token_filltered_lemmatized</th>\n",
       "    </tr>\n",
       "  </thead>\n",
       "  <tbody>\n",
       "    <tr>\n",
       "      <th>0</th>\n",
       "      <td>10120</td>\n",
       "      <td>bugis oso near wat</td>\n",
       "      <td>21</td>\n",
       "      <td>Singapore</td>\n",
       "      <td>2003</td>\n",
       "      <td>April</td>\n",
       "      <td>[bugis, oso, near, wat]</td>\n",
       "      <td>[bugis, oso, near, wat]</td>\n",
       "      <td>[bugis, oso, near, wat]</td>\n",
       "    </tr>\n",
       "    <tr>\n",
       "      <th>1</th>\n",
       "      <td>10121</td>\n",
       "      <td>go until jurong point crazy available only in ...</td>\n",
       "      <td>111</td>\n",
       "      <td>Singapore</td>\n",
       "      <td>2003</td>\n",
       "      <td>April</td>\n",
       "      <td>[go, until, jurong, point, crazy, available, o...</td>\n",
       "      <td>[go, jurong, point, crazy, available, bugis, n...</td>\n",
       "      <td>[go, jurong, point, crazy, available, bugis, n...</td>\n",
       "    </tr>\n",
       "    <tr>\n",
       "      <th>2</th>\n",
       "      <td>10122</td>\n",
       "      <td>i dunno until when lets go learn pilates</td>\n",
       "      <td>46</td>\n",
       "      <td>Singapore</td>\n",
       "      <td>2003</td>\n",
       "      <td>April</td>\n",
       "      <td>[i, dunno, until, when, lets, go, learn, pilates]</td>\n",
       "      <td>[dunno, lets, go, learn, pilates]</td>\n",
       "      <td>[dunno, let, go, learn, pilate]</td>\n",
       "    </tr>\n",
       "    <tr>\n",
       "      <th>3</th>\n",
       "      <td>10123</td>\n",
       "      <td>den only weekdays got special price haiz cant ...</td>\n",
       "      <td>140</td>\n",
       "      <td>Singapore</td>\n",
       "      <td>2003</td>\n",
       "      <td>April</td>\n",
       "      <td>[den, only, weekdays, got, special, price, hai...</td>\n",
       "      <td>[den, weekdays, got, special, price, haiz, can...</td>\n",
       "      <td>[den, weekday, get, special, price, haiz, cant...</td>\n",
       "    </tr>\n",
       "    <tr>\n",
       "      <th>4</th>\n",
       "      <td>10124</td>\n",
       "      <td>meet after lunch la</td>\n",
       "      <td>22</td>\n",
       "      <td>Singapore</td>\n",
       "      <td>2003</td>\n",
       "      <td>April</td>\n",
       "      <td>[meet, after, lunch, la]</td>\n",
       "      <td>[meet, lunch, la]</td>\n",
       "      <td>[meet, lunch, la]</td>\n",
       "    </tr>\n",
       "    <tr>\n",
       "      <th>5</th>\n",
       "      <td>10125</td>\n",
       "      <td>m walking in citylink now ü faster come down m...</td>\n",
       "      <td>65</td>\n",
       "      <td>Singapore</td>\n",
       "      <td>2003</td>\n",
       "      <td>April</td>\n",
       "      <td>[m, walking, in, citylink, now, ü, faster, com...</td>\n",
       "      <td>[walking, citylink, ü, faster, come, hungry]</td>\n",
       "      <td>[walk, citylink, ü, fast, come, hungry]</td>\n",
       "    </tr>\n",
       "    <tr>\n",
       "      <th>6</th>\n",
       "      <td>10126</td>\n",
       "      <td>5 nights we nt staying at port step liao too ex</td>\n",
       "      <td>51</td>\n",
       "      <td>Singapore</td>\n",
       "      <td>2003</td>\n",
       "      <td>April</td>\n",
       "      <td>[5, nights, we, nt, staying, at, port, step, l...</td>\n",
       "      <td>[5, nights, nt, staying, port, step, liao, ex]</td>\n",
       "      <td>[5, night, nt, stay, port, step, liao, ex]</td>\n",
       "    </tr>\n",
       "    <tr>\n",
       "      <th>7</th>\n",
       "      <td>10127</td>\n",
       "      <td>hey pple 700 or 900 for 5 nights excellent loc...</td>\n",
       "      <td>81</td>\n",
       "      <td>Singapore</td>\n",
       "      <td>2003</td>\n",
       "      <td>April</td>\n",
       "      <td>[hey, pple, 700, or, 900, for, 5, nights, exce...</td>\n",
       "      <td>[hey, pple, 700, 900, 5, nights, excellent, lo...</td>\n",
       "      <td>[hey, pple, 700, 900, 5, night, excellent, loc...</td>\n",
       "    </tr>\n",
       "    <tr>\n",
       "      <th>8</th>\n",
       "      <td>10128</td>\n",
       "      <td>yun ah the ubi one say if ü wan call by tomorr...</td>\n",
       "      <td>160</td>\n",
       "      <td>Singapore</td>\n",
       "      <td>2003</td>\n",
       "      <td>April</td>\n",
       "      <td>[yun, ah, the, ubi, one, say, if, ü, wan, call...</td>\n",
       "      <td>[yun, ah, ubi, one, say, ü, wan, call, tomorro...</td>\n",
       "      <td>[yun, ah, ubi, one, say, ü, wan, call, tomorro...</td>\n",
       "    </tr>\n",
       "    <tr>\n",
       "      <th>9</th>\n",
       "      <td>10129</td>\n",
       "      <td>hey tmr maybe can meet you at yck</td>\n",
       "      <td>33</td>\n",
       "      <td>Singapore</td>\n",
       "      <td>2003</td>\n",
       "      <td>April</td>\n",
       "      <td>[hey, tmr, maybe, can, meet, you, at, yck]</td>\n",
       "      <td>[hey, tmr, maybe, meet, yck]</td>\n",
       "      <td>[hey, tmr, maybe, meet, yck]</td>\n",
       "    </tr>\n",
       "    <tr>\n",
       "      <th>10</th>\n",
       "      <td>10130</td>\n",
       "      <td>oh i asked for fun haha take care ü</td>\n",
       "      <td>41</td>\n",
       "      <td>Singapore</td>\n",
       "      <td>2003</td>\n",
       "      <td>April</td>\n",
       "      <td>[oh, i, asked, for, fun, haha, take, care, ü]</td>\n",
       "      <td>[oh, asked, fun, haha, take, care, ü]</td>\n",
       "      <td>[oh, ask, fun, haha, take, care, ü]</td>\n",
       "    </tr>\n",
       "    <tr>\n",
       "      <th>11</th>\n",
       "      <td>10131</td>\n",
       "      <td>we are supposed to meet to discuss abt our tri...</td>\n",
       "      <td>132</td>\n",
       "      <td>Singapore</td>\n",
       "      <td>2003</td>\n",
       "      <td>April</td>\n",
       "      <td>[we, are, supposed, to, meet, to, discuss, abt...</td>\n",
       "      <td>[supposed, meet, discuss, abt, trip, thought, ...</td>\n",
       "      <td>[suppose, meet, discus, abt, trip, think, xuhu...</td>\n",
       "    </tr>\n",
       "    <tr>\n",
       "      <th>12</th>\n",
       "      <td>10132</td>\n",
       "      <td>t finish my film yet</td>\n",
       "      <td>23</td>\n",
       "      <td>Singapore</td>\n",
       "      <td>2003</td>\n",
       "      <td>April</td>\n",
       "      <td>[t, finish, my, film, yet]</td>\n",
       "      <td>[finish, film, yet]</td>\n",
       "      <td>[finish, film, yet]</td>\n",
       "    </tr>\n",
       "    <tr>\n",
       "      <th>13</th>\n",
       "      <td>10133</td>\n",
       "      <td>m having dinner with my cousin</td>\n",
       "      <td>33</td>\n",
       "      <td>Singapore</td>\n",
       "      <td>2003</td>\n",
       "      <td>April</td>\n",
       "      <td>[m, having, dinner, with, my, cousin]</td>\n",
       "      <td>[dinner, cousin]</td>\n",
       "      <td>[dinner, cousin]</td>\n",
       "    </tr>\n",
       "    <tr>\n",
       "      <th>14</th>\n",
       "      <td>10134</td>\n",
       "      <td>oh kay on sat right</td>\n",
       "      <td>26</td>\n",
       "      <td>Singapore</td>\n",
       "      <td>2003</td>\n",
       "      <td>April</td>\n",
       "      <td>[oh, kay, on, sat, right]</td>\n",
       "      <td>[oh, kay, sat, right]</td>\n",
       "      <td>[oh, kay, sit, right]</td>\n",
       "    </tr>\n",
       "    <tr>\n",
       "      <th>15</th>\n",
       "      <td>10135</td>\n",
       "      <td>i need coz i never go before</td>\n",
       "      <td>31</td>\n",
       "      <td>Singapore</td>\n",
       "      <td>2003</td>\n",
       "      <td>April</td>\n",
       "      <td>[i, need, coz, i, never, go, before]</td>\n",
       "      <td>[need, coz, never, go]</td>\n",
       "      <td>[need, coz, never, go]</td>\n",
       "    </tr>\n",
       "    <tr>\n",
       "      <th>16</th>\n",
       "      <td>10136</td>\n",
       "      <td>s a basic yoga course at bugis we can go for t...</td>\n",
       "      <td>114</td>\n",
       "      <td>Singapore</td>\n",
       "      <td>2003</td>\n",
       "      <td>April</td>\n",
       "      <td>[s, a, basic, yoga, course, at, bugis, we, can...</td>\n",
       "      <td>[basic, yoga, course, bugis, go, pilates, intr...</td>\n",
       "      <td>[basic, yoga, course, bugis, go, pilate, intro...</td>\n",
       "    </tr>\n",
       "    <tr>\n",
       "      <th>17</th>\n",
       "      <td>10137</td>\n",
       "      <td>i am going to sao mu today will be done only a...</td>\n",
       "      <td>51</td>\n",
       "      <td>Singapore</td>\n",
       "      <td>2003</td>\n",
       "      <td>April</td>\n",
       "      <td>[i, am, going, to, sao, mu, today, will, be, d...</td>\n",
       "      <td>[going, sao, mu, today, done, 12]</td>\n",
       "      <td>[go, sao, mu, today, do, 12]</td>\n",
       "    </tr>\n",
       "    <tr>\n",
       "      <th>18</th>\n",
       "      <td>10138</td>\n",
       "      <td>hey gals u all wanna meet 4 dinner at nìte</td>\n",
       "      <td>45</td>\n",
       "      <td>Singapore</td>\n",
       "      <td>2003</td>\n",
       "      <td>April</td>\n",
       "      <td>[hey, gals, u, all, wan, na, meet, 4, dinner, ...</td>\n",
       "      <td>[hey, gals, u, wan, na, meet, 4, dinner, nìte]</td>\n",
       "      <td>[hey, gal, u, wan, na, meet, 4, dinner, nìte]</td>\n",
       "    </tr>\n",
       "    <tr>\n",
       "      <th>19</th>\n",
       "      <td>10139</td>\n",
       "      <td>jos ask if u wana meet up</td>\n",
       "      <td>26</td>\n",
       "      <td>Singapore</td>\n",
       "      <td>2003</td>\n",
       "      <td>April</td>\n",
       "      <td>[jos, ask, if, u, wana, meet, up]</td>\n",
       "      <td>[jos, ask, u, wana, meet]</td>\n",
       "      <td>[jos, ask, u, wana, meet]</td>\n",
       "    </tr>\n",
       "  </tbody>\n",
       "</table>\n",
       "</div>"
      ],
      "text/plain": [
       "       id                                            Message  length  \\\n",
       "0   10120                                bugis oso near wat       21   \n",
       "1   10121  go until jurong point crazy available only in ...     111   \n",
       "2   10122          i dunno until when lets go learn pilates       46   \n",
       "3   10123  den only weekdays got special price haiz cant ...     140   \n",
       "4   10124                               meet after lunch la       22   \n",
       "5   10125  m walking in citylink now ü faster come down m...      65   \n",
       "6   10126    5 nights we nt staying at port step liao too ex      51   \n",
       "7   10127  hey pple 700 or 900 for 5 nights excellent loc...      81   \n",
       "8   10128  yun ah the ubi one say if ü wan call by tomorr...     160   \n",
       "9   10129                  hey tmr maybe can meet you at yck      33   \n",
       "10  10130                oh i asked for fun haha take care ü      41   \n",
       "11  10131  we are supposed to meet to discuss abt our tri...     132   \n",
       "12  10132                              t finish my film yet       23   \n",
       "13  10133                    m having dinner with my cousin       33   \n",
       "14  10134                               oh kay on sat right       26   \n",
       "15  10135                       i need coz i never go before      31   \n",
       "16  10136  s a basic yoga course at bugis we can go for t...     114   \n",
       "17  10137  i am going to sao mu today will be done only a...      51   \n",
       "18  10138        hey gals u all wanna meet 4 dinner at nìte       45   \n",
       "19  10139                         jos ask if u wana meet up       26   \n",
       "\n",
       "      country  year  month                                      Message_token  \\\n",
       "0   Singapore  2003  April                            [bugis, oso, near, wat]   \n",
       "1   Singapore  2003  April  [go, until, jurong, point, crazy, available, o...   \n",
       "2   Singapore  2003  April  [i, dunno, until, when, lets, go, learn, pilates]   \n",
       "3   Singapore  2003  April  [den, only, weekdays, got, special, price, hai...   \n",
       "4   Singapore  2003  April                           [meet, after, lunch, la]   \n",
       "5   Singapore  2003  April  [m, walking, in, citylink, now, ü, faster, com...   \n",
       "6   Singapore  2003  April  [5, nights, we, nt, staying, at, port, step, l...   \n",
       "7   Singapore  2003  April  [hey, pple, 700, or, 900, for, 5, nights, exce...   \n",
       "8   Singapore  2003  April  [yun, ah, the, ubi, one, say, if, ü, wan, call...   \n",
       "9   Singapore  2003  April         [hey, tmr, maybe, can, meet, you, at, yck]   \n",
       "10  Singapore  2003  April      [oh, i, asked, for, fun, haha, take, care, ü]   \n",
       "11  Singapore  2003  April  [we, are, supposed, to, meet, to, discuss, abt...   \n",
       "12  Singapore  2003  April                         [t, finish, my, film, yet]   \n",
       "13  Singapore  2003  April              [m, having, dinner, with, my, cousin]   \n",
       "14  Singapore  2003  April                          [oh, kay, on, sat, right]   \n",
       "15  Singapore  2003  April               [i, need, coz, i, never, go, before]   \n",
       "16  Singapore  2003  April  [s, a, basic, yoga, course, at, bugis, we, can...   \n",
       "17  Singapore  2003  April  [i, am, going, to, sao, mu, today, will, be, d...   \n",
       "18  Singapore  2003  April  [hey, gals, u, all, wan, na, meet, 4, dinner, ...   \n",
       "19  Singapore  2003  April                  [jos, ask, if, u, wana, meet, up]   \n",
       "\n",
       "                               Message_token_filtered  \\\n",
       "0                             [bugis, oso, near, wat]   \n",
       "1   [go, jurong, point, crazy, available, bugis, n...   \n",
       "2                   [dunno, lets, go, learn, pilates]   \n",
       "3   [den, weekdays, got, special, price, haiz, can...   \n",
       "4                                   [meet, lunch, la]   \n",
       "5        [walking, citylink, ü, faster, come, hungry]   \n",
       "6      [5, nights, nt, staying, port, step, liao, ex]   \n",
       "7   [hey, pple, 700, 900, 5, nights, excellent, lo...   \n",
       "8   [yun, ah, ubi, one, say, ü, wan, call, tomorro...   \n",
       "9                        [hey, tmr, maybe, meet, yck]   \n",
       "10              [oh, asked, fun, haha, take, care, ü]   \n",
       "11  [supposed, meet, discuss, abt, trip, thought, ...   \n",
       "12                                [finish, film, yet]   \n",
       "13                                   [dinner, cousin]   \n",
       "14                              [oh, kay, sat, right]   \n",
       "15                             [need, coz, never, go]   \n",
       "16  [basic, yoga, course, bugis, go, pilates, intr...   \n",
       "17                  [going, sao, mu, today, done, 12]   \n",
       "18     [hey, gals, u, wan, na, meet, 4, dinner, nìte]   \n",
       "19                          [jos, ask, u, wana, meet]   \n",
       "\n",
       "                   Message_token_filltered_lemmatized  \n",
       "0                             [bugis, oso, near, wat]  \n",
       "1   [go, jurong, point, crazy, available, bugis, n...  \n",
       "2                     [dunno, let, go, learn, pilate]  \n",
       "3   [den, weekday, get, special, price, haiz, cant...  \n",
       "4                                   [meet, lunch, la]  \n",
       "5             [walk, citylink, ü, fast, come, hungry]  \n",
       "6          [5, night, nt, stay, port, step, liao, ex]  \n",
       "7   [hey, pple, 700, 900, 5, night, excellent, loc...  \n",
       "8   [yun, ah, ubi, one, say, ü, wan, call, tomorro...  \n",
       "9                        [hey, tmr, maybe, meet, yck]  \n",
       "10                [oh, ask, fun, haha, take, care, ü]  \n",
       "11  [suppose, meet, discus, abt, trip, think, xuhu...  \n",
       "12                                [finish, film, yet]  \n",
       "13                                   [dinner, cousin]  \n",
       "14                              [oh, kay, sit, right]  \n",
       "15                             [need, coz, never, go]  \n",
       "16  [basic, yoga, course, bugis, go, pilate, intro...  \n",
       "17                       [go, sao, mu, today, do, 12]  \n",
       "18      [hey, gal, u, wan, na, meet, 4, dinner, nìte]  \n",
       "19                          [jos, ask, u, wana, meet]  "
      ]
     },
     "execution_count": 41,
     "metadata": {},
     "output_type": "execute_result"
    }
   ],
   "source": [
    "sg_data.head(20)"
   ]
  },
  {
   "cell_type": "code",
   "execution_count": 42,
   "id": "826cc351",
   "metadata": {},
   "outputs": [],
   "source": [
    "# Term Frequency analysis (TF) analysis for text originated from sigapore.."
   ]
  },
  {
   "cell_type": "code",
   "execution_count": 43,
   "id": "6dfb0e69",
   "metadata": {
    "scrolled": false
   },
   "outputs": [],
   "source": [
    "sg_msg = []\n",
    "for i in range(len(sg_data['Message_token_filltered_lemmatized'])):\n",
    "    text = sg_data.Message_token_filltered_lemmatized.iloc[i]\n",
    "    for word in text:\n",
    "        sg_msg.append(word)\n",
    "\n",
    "sg_msg_count = Counter(sg_msg)\n",
    "#sg_msg_count\n",
    "# when we print the sg_msg_count it results as a Dictionary, so we need to turn it back to a data frame\n",
    "#so we can organize it better..\n",
    "sg_msg_word_counts = pd.DataFrame.from_dict(sg_msg_count, orient = 'index').reset_index()\n",
    "sg_msg_word_counts\n",
    "# there are two columns in this dataframe and they are index and '0'so we need to rename them into the following:\n",
    "#index: word and '0': count\n",
    "sg_msg_word_counts.rename(columns= {'index':'word', 0:'count'}, inplace = True)\n",
    "# all we have to do is to sort the values by the count column from highest to lower.\n",
    "sg_msg_word_counts.sort_values(by=['count'], ascending= False, inplace=True)"
   ]
  },
  {
   "cell_type": "code",
   "execution_count": 44,
   "id": "2cad2851",
   "metadata": {
    "scrolled": false
   },
   "outputs": [
    {
     "name": "stdout",
     "output_type": "stream",
     "text": [
      "        word  count\n",
      "129        u   8283\n",
      "93      haha   6630\n",
      "4         go   4477\n",
      "16       get   3097\n",
      "2518     lol   2818\n",
      "247       ok   1813\n",
      "1454  hahaha   1752\n",
      "263     late   1707\n",
      "120     time   1631\n",
      "153     okay   1608\n",
      "1729      le   1458\n",
      "100    think   1448\n",
      "43      come   1371\n",
      "38      meet   1368\n",
      "64       one   1264\n",
      "225       ur   1216\n",
      "90        oh   1193\n",
      "163      dun   1183\n",
      "66       wan   1182\n",
      "364      see   1110\n"
     ]
    }
   ],
   "source": [
    "print(sg_msg_word_counts.nlargest(20,'count'))"
   ]
  },
  {
   "cell_type": "code",
   "execution_count": 45,
   "id": "0c34b2a0",
   "metadata": {},
   "outputs": [
    {
     "name": "stdout",
     "output_type": "stream",
     "text": [
      "89       2713\n",
      "10      13511\n",
      "9       16663\n",
      "2490    11400\n",
      "238     11662\n",
      "251      7533\n",
      "116     12023\n",
      "145      2303\n",
      "1430     3318\n",
      "1705    15001\n",
      "98       4913\n",
      "38       5133\n",
      "36       2460\n",
      "74       5401\n",
      "214     12207\n",
      "Name: word, dtype: int64\n"
     ]
    }
   ],
   "source": [
    "from sklearn.feature_extraction.text import TfidfVectorizer\n",
    "\n",
    "sing_corpus = []\n",
    "\n",
    "for i in range(len(sg_data['Message_token_filltered_lemmatized'])):\n",
    "    thislist = sg_data.Message_token_filltered_lemmatized.iloc[i]\n",
    "    thisstring = ', '.join(thislist) \n",
    "    sing_corpus.append(thisstring)\n",
    "sing_vectorizer = TfidfVectorizer(use_idf=True)\n",
    "sing_tfidf_vectors = sing_vectorizer.fit_transform(sing_corpus)\n",
    "\n",
    "for i in range(len(sg_data['Message_token_filltered_lemmatized'])):\n",
    "    \n",
    "    tfidf_vector = sing_tfidf_vectors[i]\n",
    "    tfidf_results = pd.DataFrame(tfidf_vector.T.todense(), index = {v: k for k, v in sing_vectorizer.vocabulary_.items()}, columns = [\"TF-IDF Score\"])\n",
    "\n",
    "    nonzero_words = tfidf_results[tfidf_results['TF-IDF Score'] > 0.0]\n",
    "    if i == 0:\n",
    "        sing_top_tfidf_scores = nonzero_words\n",
    "    else:\n",
    "        sing_top_tfidf_scores = pd.concat([sing_top_tfidf_scores, nonzero_words])\n",
    "\n",
    "# Convert the DataFrame sing_top_tfidf_words to a list:\n",
    "sing_top_tfidf_words = sing_top_tfidf_scores.index[sing_top_tfidf_scores['TF-IDF Score'] > 0.0].to_list()\n",
    "\n",
    "sing_count_of_top_tfidf_words = Counter(sing_top_tfidf_words)\n",
    "\n",
    "sing_top_tfidf_word_counts = pd.DataFrame.from_dict(sing_count_of_top_tfidf_words, orient='index').reset_index()\n",
    "\n",
    "sing_top_tfidf_word_counts.rename(columns = {'index': 'word', 0: 'count'}, inplace = True)\n",
    "\n",
    "sing_top_tfidf_word_counts.sort_values(by=[\"count\"], ascending = False, inplace = True)\n",
    "\n",
    "print(sing_top_tfidf_word_counts.nlargest(15,'count')['word'])\n"
   ]
  },
  {
   "cell_type": "markdown",
   "id": "f54d6736",
   "metadata": {},
   "source": [
    "## Word embedding "
   ]
  },
  {
   "cell_type": "code",
   "execution_count": 46,
   "id": "1fca213a",
   "metadata": {},
   "outputs": [],
   "source": [
    "import gensim\n",
    "from gensim.models import word2vec"
   ]
  },
  {
   "cell_type": "code",
   "execution_count": 47,
   "id": "bd358b9d",
   "metadata": {},
   "outputs": [
    {
     "data": {
      "text/plain": [
       "(4848646, 7101180)"
      ]
     },
     "execution_count": 47,
     "metadata": {},
     "output_type": "execute_result"
    }
   ],
   "source": [
    "sg_embedding = sg_data['Message_token_filltered_lemmatized'].tolist()\n",
    "\n",
    "# create and train the model\n",
    "sg_model = gensim.models.Word2Vec(sg_embedding, window=5, sg=1, hs=1, min_count=15, workers=2)\n",
    "\n",
    "# train the model\n",
    "sg_model.train(sg_embedding, total_examples=sg_model.corpus_count, epochs=30)"
   ]
  },
  {
   "cell_type": "code",
   "execution_count": 48,
   "id": "c356b40e",
   "metadata": {},
   "outputs": [
    {
     "data": {
      "text/plain": [
       "[('go', 0.6999204158782959),\n",
       " ('back', 0.5675495266914368),\n",
       " ('meet', 0.4732093811035156),\n",
       " ('reach', 0.432819664478302),\n",
       " ('u', 0.423145592212677)]"
      ]
     },
     "execution_count": 48,
     "metadata": {},
     "output_type": "execute_result"
    }
   ],
   "source": [
    "sg_model.wv.most_similar('come', topn=5)"
   ]
  },
  {
   "cell_type": "code",
   "execution_count": 49,
   "id": "3a776a66",
   "metadata": {},
   "outputs": [
    {
     "data": {
      "text/plain": [
       "[('hahaha', 0.8440645337104797),\n",
       " ('yeah', 0.7513229846954346),\n",
       " ('p', 0.7410346865653992),\n",
       " ('ooo', 0.7175906300544739),\n",
       " ('okay', 0.6662936210632324)]"
      ]
     },
     "execution_count": 49,
     "metadata": {},
     "output_type": "execute_result"
    }
   ],
   "source": [
    "sg_model.wv.most_similar('haha', topn=5)"
   ]
  },
  {
   "cell_type": "code",
   "execution_count": 50,
   "id": "749895db",
   "metadata": {},
   "outputs": [
    {
     "data": {
      "text/plain": [
       "[('u', 0.43059393763542175),\n",
       " ('ü', 0.40127232670783997),\n",
       " ('sem', 0.4008801579475403),\n",
       " ('go', 0.3916766047477722),\n",
       " ('day', 0.3913350999355316)]"
      ]
     },
     "execution_count": 50,
     "metadata": {},
     "output_type": "execute_result"
    }
   ],
   "source": [
    "sg_model.wv.most_similar('time', topn=5)"
   ]
  },
  {
   "cell_type": "code",
   "execution_count": 51,
   "id": "1efc3e89",
   "metadata": {},
   "outputs": [
    {
     "data": {
      "text/plain": [
       "[('haha', 0.5293241143226624),\n",
       " ('know', 0.5103479623794556),\n",
       " ('yeah', 0.5074816346168518),\n",
       " ('p', 0.4871804118156433),\n",
       " ('leh', 0.48559436202049255)]"
      ]
     },
     "execution_count": 51,
     "metadata": {},
     "output_type": "execute_result"
    }
   ],
   "source": [
    "sg_model.wv.most_similar('think', topn=5)"
   ]
  }
 ],
 "metadata": {
  "kernelspec": {
   "display_name": "Python 3 (ipykernel)",
   "language": "python",
   "name": "python3"
  },
  "language_info": {
   "codemirror_mode": {
    "name": "ipython",
    "version": 3
   },
   "file_extension": ".py",
   "mimetype": "text/x-python",
   "name": "python",
   "nbconvert_exporter": "python",
   "pygments_lexer": "ipython3",
   "version": "3.11.1"
  }
 },
 "nbformat": 4,
 "nbformat_minor": 5
}
